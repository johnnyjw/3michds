{
 "cells": [
  {
   "cell_type": "code",
   "execution_count": null,
   "metadata": {},
   "outputs": [],
   "source": [
    "\"\"\"\n",
    "X = train[['ticket_id',\n",
    "           'agency_name',\n",
    "           'inspector_name',\n",
    "           'violator_name',\n",
    "           'violation_street_number',\n",
    "           'violation_street_name', \n",
    "           'violation_zip_code',\n",
    "           'mailing_address_str_number', \n",
    "           'mailing_address_str_name', \n",
    "           'city', \n",
    "           'state', \n",
    "           'zip_code', \n",
    "           'non_us_str_code', \n",
    "           'country',\n",
    "           'ticket_issued_date', \n",
    "           'hearing_date', \n",
    "           'violation_code', \n",
    "           'violation_description', \n",
    "           'disposition',\n",
    "           'fine_amount',\n",
    "           'admin_fee',\n",
    "           'state_fee',\n",
    "           'discount_amount', \n",
    "           'clean_up_cost', \n",
    "           'judgment_amount', \n",
    "           'grafitti_status' ]]\n",
    "\"\"\""
   ]
  }
 ],
 "metadata": {
  "kernelspec": {
   "display_name": "Python 3",
   "language": "python",
   "name": "python3"
  },
  "language_info": {
   "codemirror_mode": {
    "name": "ipython",
    "version": 3
   },
   "file_extension": ".py",
   "mimetype": "text/x-python",
   "name": "python",
   "nbconvert_exporter": "python",
   "pygments_lexer": "ipython3",
   "version": "3.6.4"
  }
 },
 "nbformat": 4,
 "nbformat_minor": 2
}
